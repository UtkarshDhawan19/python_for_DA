{
  "nbformat": 4,
  "nbformat_minor": 0,
  "metadata": {
    "colab": {
      "provenance": [],
      "authorship_tag": "ABX9TyOoW3qeSxoefYOufkZTtAQf",
      "include_colab_link": true
    },
    "kernelspec": {
      "name": "python3",
      "display_name": "Python 3"
    },
    "language_info": {
      "name": "python"
    }
  },
  "cells": [
    {
      "cell_type": "markdown",
      "metadata": {
        "id": "view-in-github",
        "colab_type": "text"
      },
      "source": [
        "<a href=\"https://colab.research.google.com/github/UtkarshDhawan19/python_for_DA/blob/main/Untitled1.ipynb\" target=\"_parent\"><img src=\"https://colab.research.google.com/assets/colab-badge.svg\" alt=\"Open In Colab\"/></a>"
      ]
    },
    {
      "cell_type": "code",
      "execution_count": 16,
      "metadata": {
        "colab": {
          "base_uri": "https://localhost:8080/"
        },
        "id": "OAm1f2YDHcA-",
        "outputId": "e30182af-94ff-4166-a610-7301d9542fc8"
      },
      "outputs": [
        {
          "output_type": "stream",
          "name": "stdout",
          "text": [
            "                SOURCE         REVIEW BY REVIEW DATE  \\\n",
            "0         Trip Advisor              3612    30-04-14   \n",
            "1         Trip Advisor        9573519851    24-07-15   \n",
            "2         Trip Advisor            ???? ?    28-07-16   \n",
            "3         Trip Advisor           ????? ?    23-08-16   \n",
            "4     Google + HK HILL        ????? Anil    27-11-15   \n",
            "...                ...               ...         ...   \n",
            "4636      Trip Advisor  Yuvraj Agnihotri    11-12-16   \n",
            "4637      Trip Advisor        yv_Shastry    10-12-14   \n",
            "4638      Trip Advisor          Yvonne B    20-01-16   \n",
            "4639               NaN          yyyasssh    03-12-16   \n",
            "4640               NaN           zach411    01-02-17   \n",
            "\n",
            "                     REVIEW SUBJECT  \\\n",
            "0                     To commercial   \n",
            "1     ?Amazing temple in Bangalore?   \n",
            "2          A well maintained temple   \n",
            "3                            Temple   \n",
            "4                               NaN   \n",
            "...                             ...   \n",
            "4636                            NaN   \n",
            "4637           Clean but commercial   \n",
            "4638                Powerful energy   \n",
            "4639                        Worship   \n",
            "4640              Cool place to see   \n",
            "\n",
            "                                                   text  Review_Month  \\\n",
            "0     This reativly new temple was a big hindu versi...             4   \n",
            "1     Me and my friends enjoyed a lot in ISKCON temp...             7   \n",
            "2     Otherworldly vibrations throuout the sanctuary...             7   \n",
            "3     ISKCON temple is very good, located in west of...             8   \n",
            "4     This is a very good place to be for all the de...            11   \n",
            "...                                                 ...           ...   \n",
            "4636  Experience can't be shared in words.. Just Wow...            12   \n",
            "4637  The temple is clean and the altitude of the Ha...            12   \n",
            "4638  We were there for chanting and prayers which I...             1   \n",
            "4639  My god I love Lord Krishna's temple because he...            12   \n",
            "4640  Cool place to see, had no clue what to do insi...             2   \n",
            "\n",
            "      Day_of_week  REVIEW RATING REVIEW_TYPE  \n",
            "0               4              2    NEGATIVE  \n",
            "1               6              5    POSITIVE  \n",
            "2               5              5    POSITIVE  \n",
            "3               3              5    POSITIVE  \n",
            "4               6              4    POSITIVE  \n",
            "...           ...            ...         ...  \n",
            "4636            1              5    POSITIVE  \n",
            "4637            4              4       MIXED  \n",
            "4638            4              4    POSITIVE  \n",
            "4639            7              5    POSITIVE  \n",
            "4640            4              5    POSITIVE  \n",
            "\n",
            "[4641 rows x 9 columns]\n"
          ]
        }
      ],
      "source": [
        "import pandas as pd\n",
        "import re # regular expression -> this is good will converted to this is bad\n",
        "import nltk # natural language toolkit -> preprocessing data\n",
        "import matplotlib.pyplot as plt\n",
        "df2 = pd.read_csv(\"/content/Iskon/ISCKON (2).csv\")\n",
        "print(df2)"
      ]
    },
    {
      "cell_type": "code",
      "source": [
        "df2.iloc[:,-4].value_counts()"
      ],
      "metadata": {
        "colab": {
          "base_uri": "https://localhost:8080/",
          "height": 491
        },
        "id": "wHxB7aBiKk-J",
        "outputId": "3bea5d38-b856-46b9-912f-968cd206ffab"
      },
      "execution_count": 17,
      "outputs": [
        {
          "output_type": "execute_result",
          "data": {
            "text/plain": [
              "Review_Month\n",
              "7     597\n",
              "6     584\n",
              "3     418\n",
              "5     417\n",
              "1     414\n",
              "12    400\n",
              "8     386\n",
              "4     366\n",
              "2     351\n",
              "9     285\n",
              "11    259\n",
              "10    164\n",
              "Name: count, dtype: int64"
            ],
            "text/html": [
              "<div>\n",
              "<style scoped>\n",
              "    .dataframe tbody tr th:only-of-type {\n",
              "        vertical-align: middle;\n",
              "    }\n",
              "\n",
              "    .dataframe tbody tr th {\n",
              "        vertical-align: top;\n",
              "    }\n",
              "\n",
              "    .dataframe thead th {\n",
              "        text-align: right;\n",
              "    }\n",
              "</style>\n",
              "<table border=\"1\" class=\"dataframe\">\n",
              "  <thead>\n",
              "    <tr style=\"text-align: right;\">\n",
              "      <th></th>\n",
              "      <th>count</th>\n",
              "    </tr>\n",
              "    <tr>\n",
              "      <th>Review_Month</th>\n",
              "      <th></th>\n",
              "    </tr>\n",
              "  </thead>\n",
              "  <tbody>\n",
              "    <tr>\n",
              "      <th>7</th>\n",
              "      <td>597</td>\n",
              "    </tr>\n",
              "    <tr>\n",
              "      <th>6</th>\n",
              "      <td>584</td>\n",
              "    </tr>\n",
              "    <tr>\n",
              "      <th>3</th>\n",
              "      <td>418</td>\n",
              "    </tr>\n",
              "    <tr>\n",
              "      <th>5</th>\n",
              "      <td>417</td>\n",
              "    </tr>\n",
              "    <tr>\n",
              "      <th>1</th>\n",
              "      <td>414</td>\n",
              "    </tr>\n",
              "    <tr>\n",
              "      <th>12</th>\n",
              "      <td>400</td>\n",
              "    </tr>\n",
              "    <tr>\n",
              "      <th>8</th>\n",
              "      <td>386</td>\n",
              "    </tr>\n",
              "    <tr>\n",
              "      <th>4</th>\n",
              "      <td>366</td>\n",
              "    </tr>\n",
              "    <tr>\n",
              "      <th>2</th>\n",
              "      <td>351</td>\n",
              "    </tr>\n",
              "    <tr>\n",
              "      <th>9</th>\n",
              "      <td>285</td>\n",
              "    </tr>\n",
              "    <tr>\n",
              "      <th>11</th>\n",
              "      <td>259</td>\n",
              "    </tr>\n",
              "    <tr>\n",
              "      <th>10</th>\n",
              "      <td>164</td>\n",
              "    </tr>\n",
              "  </tbody>\n",
              "</table>\n",
              "</div><br><label><b>dtype:</b> int64</label>"
            ]
          },
          "metadata": {},
          "execution_count": 17
        }
      ]
    },
    {
      "cell_type": "code",
      "source": [
        "#creating the dataset\n",
        "data = {'Jan':414, 'Feb':351, 'March':418, 'Apr': 366, 'May': 417, 'June': 584, 'July':597, 'Aug': 386, 'Sept': 285, 'Oct': 164, 'Nov': 259, 'Dec': 400}\n",
        "Month = list(data.keys())\n",
        "Count = list(data.values())\n",
        "\n",
        "fig = plt.figure(figsize =(10,5)) #plotting a figure with 10 height and 5 width\n",
        "\n",
        "#creating the bar plot\n",
        "\n",
        "plt.bar(Month, Count, color = 'pink', width = 0.7) #specifies the type of chart , the values we are plotting for and the color\n",
        "\n",
        "plt.xlabel(\"month\") #tells the x axis\n",
        "plt.ylabel(\"No of Comments\") #tells the y axis\n",
        "plt.title(\"No of posts month-wise\") #tells the title of the chart\n",
        "plt.show()\n",
        "\n"
      ],
      "metadata": {
        "colab": {
          "base_uri": "https://localhost:8080/",
          "height": 487
        },
        "id": "HduFvhgoLqEX",
        "outputId": "9d3b94b2-3477-4292-cb4b-900da4c52f26"
      },
      "execution_count": 24,
      "outputs": [
        {
          "output_type": "display_data",
          "data": {
            "text/plain": [
              "<Figure size 1000x500 with 1 Axes>"
            ],
            "image/png": "[encoded data removed]"
          },
          "metadata": {}
        }
      ]
    },
    {
      "cell_type": "code",
      "source": [
        "#pie chart for visualizing the distribution of reviews types\n",
        "\n",
        "#get the current default figure size from matplotlibs\n",
        "\n",
        "\n",
        "plot_size = plt.rcParams[\"figure.figsize\"]\n",
        "#print the current width and height of the plot\n",
        "print(plot_size[0])\n",
        "print(plot_size[1])\n",
        "#Set custom figure size for better visibility of the pie chart\n",
        "plot_size[0] = 8\n",
        "plot_size[1] = 6\n",
        "\n",
        "# plot a pie chart showing the proportion of each review type in the dataset\n",
        "# 'autopct' formats the percentage display on each slice\n",
        "df2.REVIEW_TYPE.value_counts().plot(kind=\"pie\", autopct='%1.0f%%')"
      ],
      "metadata": {
        "colab": {
          "base_uri": "https://localhost:8080/",
          "height": 211
        },
        "id": "XYh4jABfOxJ_",
        "outputId": "e6e3a9c6-c284-4f02-f826-3a5be6fe22d5"
      },
      "execution_count": 1,
      "outputs": [
        {
          "output_type": "error",
          "ename": "NameError",
          "evalue": "name 'plt' is not defined",
          "traceback": [
            "\u001b[0;31m---------------------------------------------------------------------------\u001b[0m",
            "\u001b[0;31mNameError\u001b[0m                                 Traceback (most recent call last)",
            "\u001b[0;32m/tmp/ipython-input-1-3378753894.py\u001b[0m in \u001b[0;36m<cell line: 0>\u001b[0;34m()\u001b[0m\n\u001b[1;32m      4\u001b[0m \u001b[0;34m\u001b[0m\u001b[0m\n\u001b[1;32m      5\u001b[0m \u001b[0;34m\u001b[0m\u001b[0m\n\u001b[0;32m----> 6\u001b[0;31m \u001b[0mplot_size\u001b[0m \u001b[0;34m=\u001b[0m \u001b[0mplt\u001b[0m\u001b[0;34m.\u001b[0m\u001b[0mrcParams\u001b[0m\u001b[0;34m[\u001b[0m\u001b[0;34m\"figure.figsize\"\u001b[0m\u001b[0;34m]\u001b[0m\u001b[0;34m\u001b[0m\u001b[0;34m\u001b[0m\u001b[0m\n\u001b[0m\u001b[1;32m      7\u001b[0m \u001b[0;31m#print the current width and height of the plot\u001b[0m\u001b[0;34m\u001b[0m\u001b[0;34m\u001b[0m\u001b[0m\n\u001b[1;32m      8\u001b[0m \u001b[0mprint\u001b[0m\u001b[0;34m(\u001b[0m\u001b[0mplot_size\u001b[0m\u001b[0;34m[\u001b[0m\u001b[0;36m0\u001b[0m\u001b[0;34m]\u001b[0m\u001b[0;34m)\u001b[0m\u001b[0;34m\u001b[0m\u001b[0;34m\u001b[0m\u001b[0m\n",
            "\u001b[0;31mNameError\u001b[0m: name 'plt' is not defined"
          ]
        }
      ]
    }
  ]
}